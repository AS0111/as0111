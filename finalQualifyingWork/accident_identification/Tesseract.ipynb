{
  "nbformat": 4,
  "nbformat_minor": 0,
  "metadata": {
    "colab": {
      "provenance": []
    },
    "kernelspec": {
      "name": "python3",
      "display_name": "Python 3"
    },
    "language_info": {
      "name": "python"
    }
  },
  "cells": [
    {
      "cell_type": "code",
      "source": [
        "!sudo apt install tesseract-ocr\n",
        "try : from PIL import Image\n",
        "except ImportError : import Image\n",
        "import cv2\n",
        "import pytesseract"
      ],
      "metadata": {
        "id": "qaNJn_G7dTJO",
        "colab": {
          "base_uri": "https://localhost:8080/"
        },
        "outputId": "b0a0f9fb-a740-4b24-c1c8-3e22668a018e"
      },
      "execution_count": null,
      "outputs": [
        {
          "output_type": "stream",
          "name": "stdout",
          "text": [
            "Reading package lists... Done\n",
            "Building dependency tree... Done\n",
            "Reading state information... Done\n",
            "tesseract-ocr is already the newest version (4.1.1-2.1build1).\n",
            "0 upgraded, 0 newly installed, 0 to remove and 45 not upgraded.\n"
          ]
        }
      ]
    },
    {
      "cell_type": "code",
      "execution_count": null,
      "metadata": {
        "id": "Og3cWh8GcVNe",
        "colab": {
          "base_uri": "https://localhost:8080/",
          "height": 184
        },
        "outputId": "3bc05a75-481d-41dc-e1d0-8971ff8b0da5"
      },
      "outputs": [
        {
          "output_type": "display_data",
          "data": {
            "text/plain": [
              "<PIL.Image.Image image mode=L size=380x131>"
            ],
            "image/png": "[encoded data removed]"
          },
          "metadata": {}
        },
        {
          "output_type": "stream",
          "name": "stdout",
          "text": [
            "Номер автомобиля:  AQ7SKA\n",
            "\f\n"
          ]
        }
      ],
      "source": [
        "import cv2\n",
        "import numpy as np\n",
        "import pytesseract\n",
        "\n",
        "# Загрузка изображения\n",
        "img = cv2.imread('1.jpg')\n",
        "\n",
        "# Загрузка модели YOLO\n",
        "net = cv2.dnn.readNet(\"yolov3.weights\", \"yolov3.cfg\")\n",
        "\n",
        "# Список классов\n",
        "classes = []\n",
        "with open(\"coco.names\", \"r\") as f:\n",
        "    classes = [line.strip() for line in f.readlines()]\n",
        "\n",
        "# Задание параметров нейросети\n",
        "layer_names = net.getLayerNames()\n",
        "output_layers = [layer_names[i - 1] for i in net.getUnconnectedOutLayers()]\n",
        "\n",
        "# Применение YOLO для детектирования номерного знака\n",
        "'''blob = cv2.dnn.blobFromImage(img, 0.00392, (416, 416), (0, 0, 0), True, crop=False)\n",
        "net.setInput(blob)\n",
        "outs = net.forward(output_layers)'''\n",
        "\n",
        "# Получение координат номерного знака\n",
        "class_ids = []\n",
        "confidences = []\n",
        "boxes = []\n",
        "'''for out in outs:\n",
        "    for detection in out:\n",
        "        scores = detection[5:]\n",
        "        class_id = np.argmax(scores)\n",
        "        confidence = scores[class_id]\n",
        "        if confidence > 0.5 and class_id == 2: #Выбор класса \"car\"\n",
        "            center_x = int(detection[0] * img.shape[1])\n",
        "            center_y = int(detection[1] * img.shape[0])\n",
        "            w = int(detection[2] * img.shape[1])\n",
        "            h = int(detection[3] * img.shape[0])\n",
        "            x = center_x - w / 2\n",
        "            y = center_y - h / 2\n",
        "            class_ids.append(class_id)\n",
        "            confidences.append(float(confidence))\n",
        "            boxes.append([x, y, w, h])'''\n",
        "#cv2_imshow(img)\n",
        "# Вырезание номерного знака из изображения\n",
        "#x, y, w, h = boxes[0]\n",
        "#crop_img = img[int(y):int(y+h), int(x):int(x+w)]\n",
        "#cv2_imshow(crop_img)\n",
        "# Распознавание символов\n",
        "img=cv2.imread('1.jpg', cv2.IMREAD_COLOR)\n",
        "img = cv2.resize(img, (620,480) )\n",
        "gray = cv2.cvtColor(img, cv2.COLOR_BGR2GRAY)\n",
        "gray=cv2.bilateralFilter(gray,11,17,17)\n",
        "#gray = cv2.medianBlur(gray, 5)\n",
        "#gray = cv2.threshold(gray, 0, 255, cv2.THRESH_BINARY + cv2.THRESH_OTSU)[1]\n",
        "#cv2_imshow(gray)\n",
        "\n",
        "img = cv2.resize(img,(600,400))\n",
        "crop = img[130:261, 70:450]\n",
        "gray = cv2.cvtColor(crop, cv2.COLOR_BGR2GRAY)\n",
        "sharpen_kernel = np.array([[-1,-1,-1], [-1,9,-1], [-1,-1,-1]])\n",
        "sharpen = cv2.filter2D(gray, -1, sharpen_kernel)\n",
        "thresh = cv2.threshold(sharpen, 0, 255, cv2.THRESH_BINARY_INV + cv2.THRESH_OTSU)[1]\n",
        "kernel = cv2.getStructuringElement(cv2.MORPH_RECT, (2,2))\n",
        "close = cv2.morphologyEx(thresh, cv2.MORPH_CLOSE, kernel, iterations=1)\n",
        "result = 255 - close\n",
        "#cv2_imshow(crop)\n",
        "#cv2_imshow(sharpen)\n",
        "#cv2_imshow(thresh)\n",
        "#cv2_imshow(close)\n",
        "cv2_imshow(result)\n",
        "cv2.waitKey()\n",
        "\n",
        "text = pytesseract.image_to_string(gray, config='--oem 3 --psm 13', lang ='eng')\n",
        "print(\"Номер автомобиля: \", text)"
      ]
    },
    {
      "cell_type": "code",
      "source": [
        "!wget https://avtoshark.com/wp-content/uploads/2020/12/krutoj-nomernoj-znak.jpg"
      ],
      "metadata": {
        "id": "Px2BsbEUMSHP",
        "colab": {
          "base_uri": "https://localhost:8080/"
        },
        "outputId": "7a5a9f02-a02c-407e-fbc4-79bc65cbd626"
      },
      "execution_count": null,
      "outputs": [
        {
          "output_type": "stream",
          "name": "stdout",
          "text": [
            "--2023-05-22 21:23:35--  https://avtoshark.com/wp-content/uploads/2020/12/krutoj-nomernoj-znak.jpg\n",
            "Resolving avtoshark.com (avtoshark.com)... 172.67.140.74, 104.21.27.9, 2606:4700:3037::ac43:8c4a, ...\n",
            "Connecting to avtoshark.com (avtoshark.com)|172.67.140.74|:443... connected.\n",
            "HTTP request sent, awaiting response... 200 OK\n",
            "Length: 146747 (143K) [image/jpeg]\n",
            "Saving to: ‘krutoj-nomernoj-znak.jpg’\n",
            "\n",
            "krutoj-nomernoj-zna 100%[===================>] 143.31K  --.-KB/s    in 0.1s    \n",
            "\n",
            "2023-05-22 21:23:36 (1.21 MB/s) - ‘krutoj-nomernoj-znak.jpg’ saved [146747/146747]\n",
            "\n"
          ]
        }
      ]
    },
    {
      "cell_type": "code",
      "source": [
        "from google.colab.patches import cv2_imshow"
      ],
      "metadata": {
        "id": "0u2So84oK1cm"
      },
      "execution_count": null,
      "outputs": []
    },
    {
      "cell_type": "code",
      "source": [
        "from google.colab import files"
      ],
      "metadata": {
        "id": "Ardxwl-adluB"
      },
      "execution_count": null,
      "outputs": []
    },
    {
      "cell_type": "code",
      "source": [
        "files.upload()"
      ],
      "metadata": {
        "id": "r9pmKVGOdo4w",
        "colab": {
          "base_uri": "https://localhost:8080/",
          "height": 308
        },
        "outputId": "b1fec3d9-bf0b-46e6-f58e-5ed632c18306"
      },
      "execution_count": null,
      "outputs": []
    },
    {
      "cell_type": "code",
      "source": [
        "!wget http://klubmama.ru/uploads/posts/2022-08/1661464221_2-klubmama-ru-p-nomer-mashini-raspechatat-dlya-podelki-fot-2.jpg"
      ],
      "metadata": {
        "colab": {
          "base_uri": "https://localhost:8080/"
        },
        "id": "jvZs27dobGme",
        "outputId": "30b48e8f-8348-459a-c432-cd366b0868c8"
      },
      "execution_count": null,
      "outputs": [
        {
          "output_type": "stream",
          "name": "stdout",
          "text": [
            "--2024-04-05 17:29:17--  http://klubmama.ru/uploads/posts/2022-08/1661464221_2-klubmama-ru-p-nomer-mashini-raspechatat-dlya-podelki-fot-2.jpg\n",
            "Resolving klubmama.ru (klubmama.ru)... 146.59.9.33\n",
            "Connecting to klubmama.ru (klubmama.ru)|146.59.9.33|:80... connected.\n",
            "HTTP request sent, awaiting response... 200 OK\n",
            "Length: 116899 (114K) [image/jpeg]\n",
            "Saving to: ‘1661464221_2-klubmama-ru-p-nomer-mashini-raspechatat-dlya-podelki-fot-2.jpg’\n",
            "\n",
            "1661464221_2-klubma 100%[===================>] 114.16K   342KB/s    in 0.3s    \n",
            "\n",
            "2024-04-05 17:29:18 (342 KB/s) - ‘1661464221_2-klubmama-ru-p-nomer-mashini-raspechatat-dlya-podelki-fot-2.jpg’ saved [116899/116899]\n",
            "\n"
          ]
        }
      ]
    },
    {
      "cell_type": "code",
      "source": [
        "!wget https://raw.githubusercontent.com/AlexeyAB/darknet/master/cfg/yolov3.cfg"
      ],
      "metadata": {
        "id": "_ruiZTIacgUR",
        "colab": {
          "base_uri": "https://localhost:8080/"
        },
        "outputId": "ea5385ce-cf69-4abd-8cb8-000429438b09"
      },
      "execution_count": null,
      "outputs": [
        {
          "output_type": "stream",
          "name": "stdout",
          "text": [
            "--2024-04-05 17:29:22--  https://raw.githubusercontent.com/AlexeyAB/darknet/master/cfg/yolov3.cfg\n",
            "Resolving raw.githubusercontent.com (raw.githubusercontent.com)... 185.199.108.133, 185.199.109.133, 185.199.110.133, ...\n",
            "Connecting to raw.githubusercontent.com (raw.githubusercontent.com)|185.199.108.133|:443... connected.\n",
            "HTTP request sent, awaiting response... 200 OK\n",
            "Length: 8342 (8.1K) [text/plain]\n",
            "Saving to: ‘yolov3.cfg’\n",
            "\n",
            "\ryolov3.cfg            0%[                    ]       0  --.-KB/s               \ryolov3.cfg          100%[===================>]   8.15K  --.-KB/s    in 0s      \n",
            "\n",
            "2024-04-05 17:29:22 (22.3 MB/s) - ‘yolov3.cfg’ saved [8342/8342]\n",
            "\n"
          ]
        }
      ]
    },
    {
      "cell_type": "code",
      "source": [
        "!wget https://pjreddie.com/media/files/yolov3.weights"
      ],
      "metadata": {
        "id": "B_X9PY2ucjEt",
        "colab": {
          "base_uri": "https://localhost:8080/"
        },
        "outputId": "8cb77bc0-c4a7-4cd6-8add-6d612cfed83c"
      },
      "execution_count": null,
      "outputs": [
        {
          "output_type": "stream",
          "name": "stdout",
          "text": [
            "--2024-04-05 17:29:23--  https://pjreddie.com/media/files/yolov3.weights\n",
            "Resolving pjreddie.com (pjreddie.com)... 162.0.215.52\n",
            "Connecting to pjreddie.com (pjreddie.com)|162.0.215.52|:443... connected.\n",
            "HTTP request sent, awaiting response... 200 OK\n",
            "Length: 248007048 (237M) [application/octet-stream]\n",
            "Saving to: ‘yolov3.weights’\n",
            "\n",
            "yolov3.weights      100%[===================>] 236.52M  22.7MB/s    in 11s     \n",
            "\n",
            "2024-04-05 17:29:35 (20.9 MB/s) - ‘yolov3.weights’ saved [248007048/248007048]\n",
            "\n"
          ]
        }
      ]
    },
    {
      "cell_type": "code",
      "source": [
        "!wget https://github.com/pjreddie/darknet/blob/master/data/coco.names"
      ],
      "metadata": {
        "id": "di2QZ2Udcoba",
        "colab": {
          "base_uri": "https://localhost:8080/"
        },
        "outputId": "aea7eee3-7adc-48f3-b26d-e2575d9bca6a"
      },
      "execution_count": null,
      "outputs": [
        {
          "output_type": "stream",
          "name": "stdout",
          "text": [
            "--2024-04-05 17:29:35--  https://github.com/pjreddie/darknet/blob/master/data/coco.names\n",
            "Resolving github.com (github.com)... 140.82.113.4\n",
            "Connecting to github.com (github.com)|140.82.113.4|:443... connected.\n",
            "HTTP request sent, awaiting response... 200 OK\n",
            "Length: unspecified [text/html]\n",
            "Saving to: ‘coco.names’\n",
            "\n",
            "\rcoco.names              [<=>                 ]       0  --.-KB/s               \rcoco.names              [ <=>                ] 148.77K  --.-KB/s    in 0.05s   \n",
            "\n",
            "2024-04-05 17:29:35 (2.87 MB/s) - ‘coco.names’ saved [152344]\n",
            "\n"
          ]
        }
      ]
    }
  ]
}
